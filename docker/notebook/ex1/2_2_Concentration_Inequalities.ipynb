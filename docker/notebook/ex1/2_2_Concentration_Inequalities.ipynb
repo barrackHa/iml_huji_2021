{
 "cells": [
  {
   "cell_type": "code",
   "execution_count": null,
   "id": "thermal-minneapolis",
   "metadata": {},
   "outputs": [],
   "source": [
    "import numpy as np\n",
    "data = numpy.random.binomial(1, 0.25, (100000,1000))\n",
    "\n",
    "epsilon = [0.5,0.25,0.1,0.01,0.001]"
   ]
  }
 ],
 "metadata": {
  "kernelspec": {
   "display_name": "Python 3",
   "language": "python",
   "name": "python3"
  },
  "language_info": {
   "codemirror_mode": {
    "name": "ipython",
    "version": 3
   },
   "file_extension": ".py",
   "mimetype": "text/x-python",
   "name": "python",
   "nbconvert_exporter": "python",
   "pygments_lexer": "ipython3",
   "version": "3.7.10"
  }
 },
 "nbformat": 4,
 "nbformat_minor": 5
}
